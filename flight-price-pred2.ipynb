{
 "cells": [
  {
   "cell_type": "code",
   "execution_count": 1,
   "id": "439d980a",
   "metadata": {
    "_cell_guid": "b1076dfc-b9ad-4769-8c92-a6c4dae69d19",
    "_uuid": "8f2839f25d086af736a60e9eeb907d3b93b6e0e5",
    "execution": {
     "iopub.execute_input": "2022-05-09T02:34:39.137217Z",
     "iopub.status.busy": "2022-05-09T02:34:39.136883Z",
     "iopub.status.idle": "2022-05-09T02:34:39.157807Z",
     "shell.execute_reply": "2022-05-09T02:34:39.156575Z"
    },
    "papermill": {
     "duration": 0.06014,
     "end_time": "2022-05-09T02:34:39.160093",
     "exception": false,
     "start_time": "2022-05-09T02:34:39.099953",
     "status": "completed"
    },
    "tags": []
   },
   "outputs": [
    {
     "name": "stdout",
     "output_type": "stream",
     "text": [
      "/kaggle/input/flight-price-prediction/business.csv\n",
      "/kaggle/input/flight-price-prediction/economy.csv\n",
      "/kaggle/input/flight-price-prediction/Clean_Dataset.csv\n"
     ]
    }
   ],
   "source": [
    "# This Python 3 environment comes with many helpful analytics libraries installed\n",
    "# It is defined by the kaggle/python Docker image: https://github.com/kaggle/docker-python\n",
    "# For example, here's several helpful packages to load\n",
    "\n",
    "import numpy as np # linear algebra\n",
    "import pandas as pd # data processing, CSV file I/O (e.g. pd.read_csv)\n",
    "\n",
    "# Input data files are available in the read-only \"../input/\" directory\n",
    "# For example, running this (by clicking run or pressing Shift+Enter) will list all files under the input directory\n",
    "\n",
    "import os\n",
    "for dirname, _, filenames in os.walk('/kaggle/input'):\n",
    "    for filename in filenames:\n",
    "        print(os.path.join(dirname, filename))\n",
    "\n",
    "# You can write up to 20GB to the current directory (/kaggle/working/) that gets preserved as output when you create a version using \"Save & Run All\" \n",
    "# You can also write temporary files to /kaggle/temp/, but they won't be saved outside of the current session"
   ]
  },
  {
   "cell_type": "code",
   "execution_count": 2,
   "id": "e1ebdd12",
   "metadata": {
    "execution": {
     "iopub.execute_input": "2022-05-09T02:34:39.232205Z",
     "iopub.status.busy": "2022-05-09T02:34:39.232005Z",
     "iopub.status.idle": "2022-05-09T02:34:40.399020Z",
     "shell.execute_reply": "2022-05-09T02:34:40.398368Z"
    },
    "papermill": {
     "duration": 1.204735,
     "end_time": "2022-05-09T02:34:40.400754",
     "exception": false,
     "start_time": "2022-05-09T02:34:39.196019",
     "status": "completed"
    },
    "tags": []
   },
   "outputs": [],
   "source": [
    "import seaborn as sns\n",
    "import matplotlib.pyplot as plt\n",
    "\n",
    "sns.set()"
   ]
  },
  {
   "cell_type": "code",
   "execution_count": 3,
   "id": "93fb6215",
   "metadata": {
    "execution": {
     "iopub.execute_input": "2022-05-09T02:34:40.466844Z",
     "iopub.status.busy": "2022-05-09T02:34:40.466416Z",
     "iopub.status.idle": "2022-05-09T02:34:41.084744Z",
     "shell.execute_reply": "2022-05-09T02:34:41.084004Z"
    },
    "papermill": {
     "duration": 0.653744,
     "end_time": "2022-05-09T02:34:41.086647",
     "exception": false,
     "start_time": "2022-05-09T02:34:40.432903",
     "status": "completed"
    },
    "tags": []
   },
   "outputs": [
    {
     "data": {
      "text/html": [
       "<div>\n",
       "<style scoped>\n",
       "    .dataframe tbody tr th:only-of-type {\n",
       "        vertical-align: middle;\n",
       "    }\n",
       "\n",
       "    .dataframe tbody tr th {\n",
       "        vertical-align: top;\n",
       "    }\n",
       "\n",
       "    .dataframe thead th {\n",
       "        text-align: right;\n",
       "    }\n",
       "</style>\n",
       "<table border=\"1\" class=\"dataframe\">\n",
       "  <thead>\n",
       "    <tr style=\"text-align: right;\">\n",
       "      <th></th>\n",
       "      <th>Unnamed: 0</th>\n",
       "      <th>airline</th>\n",
       "      <th>flight</th>\n",
       "      <th>source_city</th>\n",
       "      <th>departure_time</th>\n",
       "      <th>stops</th>\n",
       "      <th>arrival_time</th>\n",
       "      <th>destination_city</th>\n",
       "      <th>class</th>\n",
       "      <th>duration</th>\n",
       "      <th>days_left</th>\n",
       "      <th>price</th>\n",
       "    </tr>\n",
       "  </thead>\n",
       "  <tbody>\n",
       "    <tr>\n",
       "      <th>0</th>\n",
       "      <td>0</td>\n",
       "      <td>SpiceJet</td>\n",
       "      <td>SG-8709</td>\n",
       "      <td>Delhi</td>\n",
       "      <td>Evening</td>\n",
       "      <td>zero</td>\n",
       "      <td>Night</td>\n",
       "      <td>Mumbai</td>\n",
       "      <td>Economy</td>\n",
       "      <td>2.17</td>\n",
       "      <td>1</td>\n",
       "      <td>5953</td>\n",
       "    </tr>\n",
       "    <tr>\n",
       "      <th>1</th>\n",
       "      <td>1</td>\n",
       "      <td>SpiceJet</td>\n",
       "      <td>SG-8157</td>\n",
       "      <td>Delhi</td>\n",
       "      <td>Early_Morning</td>\n",
       "      <td>zero</td>\n",
       "      <td>Morning</td>\n",
       "      <td>Mumbai</td>\n",
       "      <td>Economy</td>\n",
       "      <td>2.33</td>\n",
       "      <td>1</td>\n",
       "      <td>5953</td>\n",
       "    </tr>\n",
       "    <tr>\n",
       "      <th>2</th>\n",
       "      <td>2</td>\n",
       "      <td>AirAsia</td>\n",
       "      <td>I5-764</td>\n",
       "      <td>Delhi</td>\n",
       "      <td>Early_Morning</td>\n",
       "      <td>zero</td>\n",
       "      <td>Early_Morning</td>\n",
       "      <td>Mumbai</td>\n",
       "      <td>Economy</td>\n",
       "      <td>2.17</td>\n",
       "      <td>1</td>\n",
       "      <td>5956</td>\n",
       "    </tr>\n",
       "    <tr>\n",
       "      <th>3</th>\n",
       "      <td>3</td>\n",
       "      <td>Vistara</td>\n",
       "      <td>UK-995</td>\n",
       "      <td>Delhi</td>\n",
       "      <td>Morning</td>\n",
       "      <td>zero</td>\n",
       "      <td>Afternoon</td>\n",
       "      <td>Mumbai</td>\n",
       "      <td>Economy</td>\n",
       "      <td>2.25</td>\n",
       "      <td>1</td>\n",
       "      <td>5955</td>\n",
       "    </tr>\n",
       "    <tr>\n",
       "      <th>4</th>\n",
       "      <td>4</td>\n",
       "      <td>Vistara</td>\n",
       "      <td>UK-963</td>\n",
       "      <td>Delhi</td>\n",
       "      <td>Morning</td>\n",
       "      <td>zero</td>\n",
       "      <td>Morning</td>\n",
       "      <td>Mumbai</td>\n",
       "      <td>Economy</td>\n",
       "      <td>2.33</td>\n",
       "      <td>1</td>\n",
       "      <td>5955</td>\n",
       "    </tr>\n",
       "  </tbody>\n",
       "</table>\n",
       "</div>"
      ],
      "text/plain": [
       "   Unnamed: 0   airline   flight source_city departure_time stops  \\\n",
       "0           0  SpiceJet  SG-8709       Delhi        Evening  zero   \n",
       "1           1  SpiceJet  SG-8157       Delhi  Early_Morning  zero   \n",
       "2           2   AirAsia   I5-764       Delhi  Early_Morning  zero   \n",
       "3           3   Vistara   UK-995       Delhi        Morning  zero   \n",
       "4           4   Vistara   UK-963       Delhi        Morning  zero   \n",
       "\n",
       "    arrival_time destination_city    class  duration  days_left  price  \n",
       "0          Night           Mumbai  Economy      2.17          1   5953  \n",
       "1        Morning           Mumbai  Economy      2.33          1   5953  \n",
       "2  Early_Morning           Mumbai  Economy      2.17          1   5956  \n",
       "3      Afternoon           Mumbai  Economy      2.25          1   5955  \n",
       "4        Morning           Mumbai  Economy      2.33          1   5955  "
      ]
     },
     "execution_count": 3,
     "metadata": {},
     "output_type": "execute_result"
    }
   ],
   "source": [
    "df= pd.read_csv(\"../input/flight-price-prediction/Clean_Dataset.csv\")\n",
    "df.head()"
   ]
  },
  {
   "cell_type": "code",
   "execution_count": 4,
   "id": "b6deb844",
   "metadata": {
    "execution": {
     "iopub.execute_input": "2022-05-09T02:34:41.159961Z",
     "iopub.status.busy": "2022-05-09T02:34:41.159672Z",
     "iopub.status.idle": "2022-05-09T02:34:41.407219Z",
     "shell.execute_reply": "2022-05-09T02:34:41.406141Z"
    },
    "papermill": {
     "duration": 0.286486,
     "end_time": "2022-05-09T02:34:41.409810",
     "exception": false,
     "start_time": "2022-05-09T02:34:41.123324",
     "status": "completed"
    },
    "tags": []
   },
   "outputs": [
    {
     "data": {
      "text/plain": [
       "Unnamed: 0          0\n",
       "airline             0\n",
       "flight              0\n",
       "source_city         0\n",
       "departure_time      0\n",
       "stops               0\n",
       "arrival_time        0\n",
       "destination_city    0\n",
       "class               0\n",
       "duration            0\n",
       "days_left           0\n",
       "price               0\n",
       "dtype: int64"
      ]
     },
     "execution_count": 4,
     "metadata": {},
     "output_type": "execute_result"
    }
   ],
   "source": [
    "df.isnull().sum()"
   ]
  },
  {
   "cell_type": "code",
   "execution_count": 5,
   "id": "d1e4a125",
   "metadata": {
    "execution": {
     "iopub.execute_input": "2022-05-09T02:34:41.520465Z",
     "iopub.status.busy": "2022-05-09T02:34:41.520218Z",
     "iopub.status.idle": "2022-05-09T02:34:41.560370Z",
     "shell.execute_reply": "2022-05-09T02:34:41.559795Z"
    },
    "papermill": {
     "duration": 0.097786,
     "end_time": "2022-05-09T02:34:41.562439",
     "exception": false,
     "start_time": "2022-05-09T02:34:41.464653",
     "status": "completed"
    },
    "tags": []
   },
   "outputs": [
    {
     "data": {
      "text/html": [
       "<div>\n",
       "<style scoped>\n",
       "    .dataframe tbody tr th:only-of-type {\n",
       "        vertical-align: middle;\n",
       "    }\n",
       "\n",
       "    .dataframe tbody tr th {\n",
       "        vertical-align: top;\n",
       "    }\n",
       "\n",
       "    .dataframe thead th {\n",
       "        text-align: right;\n",
       "    }\n",
       "</style>\n",
       "<table border=\"1\" class=\"dataframe\">\n",
       "  <thead>\n",
       "    <tr style=\"text-align: right;\">\n",
       "      <th></th>\n",
       "      <th>airline</th>\n",
       "      <th>source_city</th>\n",
       "      <th>departure_time</th>\n",
       "      <th>stops</th>\n",
       "      <th>arrival_time</th>\n",
       "      <th>destination_city</th>\n",
       "      <th>class</th>\n",
       "      <th>duration</th>\n",
       "      <th>days_left</th>\n",
       "      <th>price</th>\n",
       "    </tr>\n",
       "  </thead>\n",
       "  <tbody>\n",
       "    <tr>\n",
       "      <th>0</th>\n",
       "      <td>SpiceJet</td>\n",
       "      <td>Delhi</td>\n",
       "      <td>Evening</td>\n",
       "      <td>zero</td>\n",
       "      <td>Night</td>\n",
       "      <td>Mumbai</td>\n",
       "      <td>Economy</td>\n",
       "      <td>2.17</td>\n",
       "      <td>1</td>\n",
       "      <td>5953</td>\n",
       "    </tr>\n",
       "    <tr>\n",
       "      <th>1</th>\n",
       "      <td>SpiceJet</td>\n",
       "      <td>Delhi</td>\n",
       "      <td>Early_Morning</td>\n",
       "      <td>zero</td>\n",
       "      <td>Morning</td>\n",
       "      <td>Mumbai</td>\n",
       "      <td>Economy</td>\n",
       "      <td>2.33</td>\n",
       "      <td>1</td>\n",
       "      <td>5953</td>\n",
       "    </tr>\n",
       "    <tr>\n",
       "      <th>2</th>\n",
       "      <td>AirAsia</td>\n",
       "      <td>Delhi</td>\n",
       "      <td>Early_Morning</td>\n",
       "      <td>zero</td>\n",
       "      <td>Early_Morning</td>\n",
       "      <td>Mumbai</td>\n",
       "      <td>Economy</td>\n",
       "      <td>2.17</td>\n",
       "      <td>1</td>\n",
       "      <td>5956</td>\n",
       "    </tr>\n",
       "    <tr>\n",
       "      <th>3</th>\n",
       "      <td>Vistara</td>\n",
       "      <td>Delhi</td>\n",
       "      <td>Morning</td>\n",
       "      <td>zero</td>\n",
       "      <td>Afternoon</td>\n",
       "      <td>Mumbai</td>\n",
       "      <td>Economy</td>\n",
       "      <td>2.25</td>\n",
       "      <td>1</td>\n",
       "      <td>5955</td>\n",
       "    </tr>\n",
       "    <tr>\n",
       "      <th>4</th>\n",
       "      <td>Vistara</td>\n",
       "      <td>Delhi</td>\n",
       "      <td>Morning</td>\n",
       "      <td>zero</td>\n",
       "      <td>Morning</td>\n",
       "      <td>Mumbai</td>\n",
       "      <td>Economy</td>\n",
       "      <td>2.33</td>\n",
       "      <td>1</td>\n",
       "      <td>5955</td>\n",
       "    </tr>\n",
       "  </tbody>\n",
       "</table>\n",
       "</div>"
      ],
      "text/plain": [
       "    airline source_city departure_time stops   arrival_time destination_city  \\\n",
       "0  SpiceJet       Delhi        Evening  zero          Night           Mumbai   \n",
       "1  SpiceJet       Delhi  Early_Morning  zero        Morning           Mumbai   \n",
       "2   AirAsia       Delhi  Early_Morning  zero  Early_Morning           Mumbai   \n",
       "3   Vistara       Delhi        Morning  zero      Afternoon           Mumbai   \n",
       "4   Vistara       Delhi        Morning  zero        Morning           Mumbai   \n",
       "\n",
       "     class  duration  days_left  price  \n",
       "0  Economy      2.17          1   5953  \n",
       "1  Economy      2.33          1   5953  \n",
       "2  Economy      2.17          1   5956  \n",
       "3  Economy      2.25          1   5955  \n",
       "4  Economy      2.33          1   5955  "
      ]
     },
     "execution_count": 5,
     "metadata": {},
     "output_type": "execute_result"
    }
   ],
   "source": [
    "df1=df.drop(['flight','Unnamed: 0'],axis=1)\n",
    "#df.drop(['arrival_time'],axis=1)\n",
    "df1.head()"
   ]
  },
  {
   "cell_type": "code",
   "execution_count": null,
   "id": "9eb5e140",
   "metadata": {
    "papermill": {
     "duration": 0.054224,
     "end_time": "2022-05-09T02:34:41.671991",
     "exception": false,
     "start_time": "2022-05-09T02:34:41.617767",
     "status": "completed"
    },
    "tags": []
   },
   "outputs": [],
   "source": []
  },
  {
   "cell_type": "code",
   "execution_count": 6,
   "id": "ecb38267",
   "metadata": {
    "execution": {
     "iopub.execute_input": "2022-05-09T02:34:41.783704Z",
     "iopub.status.busy": "2022-05-09T02:34:41.783438Z",
     "iopub.status.idle": "2022-05-09T02:34:42.151410Z",
     "shell.execute_reply": "2022-05-09T02:34:42.150797Z"
    },
    "papermill": {
     "duration": 0.426417,
     "end_time": "2022-05-09T02:34:42.153631",
     "exception": false,
     "start_time": "2022-05-09T02:34:41.727214",
     "status": "completed"
    },
    "tags": []
   },
   "outputs": [
    {
     "data": {
      "text/html": [
       "<div>\n",
       "<style scoped>\n",
       "    .dataframe tbody tr th:only-of-type {\n",
       "        vertical-align: middle;\n",
       "    }\n",
       "\n",
       "    .dataframe tbody tr th {\n",
       "        vertical-align: top;\n",
       "    }\n",
       "\n",
       "    .dataframe thead th {\n",
       "        text-align: right;\n",
       "    }\n",
       "</style>\n",
       "<table border=\"1\" class=\"dataframe\">\n",
       "  <thead>\n",
       "    <tr style=\"text-align: right;\">\n",
       "      <th></th>\n",
       "      <th>airline</th>\n",
       "      <th>source_city</th>\n",
       "      <th>departure_time</th>\n",
       "      <th>stops</th>\n",
       "      <th>arrival_time</th>\n",
       "      <th>destination_city</th>\n",
       "      <th>class</th>\n",
       "      <th>days_left</th>\n",
       "      <th>price</th>\n",
       "      <th>Du_hour</th>\n",
       "      <th>Du_min</th>\n",
       "    </tr>\n",
       "  </thead>\n",
       "  <tbody>\n",
       "    <tr>\n",
       "      <th>0</th>\n",
       "      <td>SpiceJet</td>\n",
       "      <td>Delhi</td>\n",
       "      <td>Evening</td>\n",
       "      <td>zero</td>\n",
       "      <td>Night</td>\n",
       "      <td>Mumbai</td>\n",
       "      <td>Economy</td>\n",
       "      <td>1</td>\n",
       "      <td>5953</td>\n",
       "      <td>2</td>\n",
       "      <td>17</td>\n",
       "    </tr>\n",
       "    <tr>\n",
       "      <th>1</th>\n",
       "      <td>SpiceJet</td>\n",
       "      <td>Delhi</td>\n",
       "      <td>Early_Morning</td>\n",
       "      <td>zero</td>\n",
       "      <td>Morning</td>\n",
       "      <td>Mumbai</td>\n",
       "      <td>Economy</td>\n",
       "      <td>1</td>\n",
       "      <td>5953</td>\n",
       "      <td>2</td>\n",
       "      <td>33</td>\n",
       "    </tr>\n",
       "    <tr>\n",
       "      <th>2</th>\n",
       "      <td>AirAsia</td>\n",
       "      <td>Delhi</td>\n",
       "      <td>Early_Morning</td>\n",
       "      <td>zero</td>\n",
       "      <td>Early_Morning</td>\n",
       "      <td>Mumbai</td>\n",
       "      <td>Economy</td>\n",
       "      <td>1</td>\n",
       "      <td>5956</td>\n",
       "      <td>2</td>\n",
       "      <td>17</td>\n",
       "    </tr>\n",
       "    <tr>\n",
       "      <th>3</th>\n",
       "      <td>Vistara</td>\n",
       "      <td>Delhi</td>\n",
       "      <td>Morning</td>\n",
       "      <td>zero</td>\n",
       "      <td>Afternoon</td>\n",
       "      <td>Mumbai</td>\n",
       "      <td>Economy</td>\n",
       "      <td>1</td>\n",
       "      <td>5955</td>\n",
       "      <td>2</td>\n",
       "      <td>25</td>\n",
       "    </tr>\n",
       "    <tr>\n",
       "      <th>4</th>\n",
       "      <td>Vistara</td>\n",
       "      <td>Delhi</td>\n",
       "      <td>Morning</td>\n",
       "      <td>zero</td>\n",
       "      <td>Morning</td>\n",
       "      <td>Mumbai</td>\n",
       "      <td>Economy</td>\n",
       "      <td>1</td>\n",
       "      <td>5955</td>\n",
       "      <td>2</td>\n",
       "      <td>33</td>\n",
       "    </tr>\n",
       "  </tbody>\n",
       "</table>\n",
       "</div>"
      ],
      "text/plain": [
       "    airline source_city departure_time stops   arrival_time destination_city  \\\n",
       "0  SpiceJet       Delhi        Evening  zero          Night           Mumbai   \n",
       "1  SpiceJet       Delhi  Early_Morning  zero        Morning           Mumbai   \n",
       "2   AirAsia       Delhi  Early_Morning  zero  Early_Morning           Mumbai   \n",
       "3   Vistara       Delhi        Morning  zero      Afternoon           Mumbai   \n",
       "4   Vistara       Delhi        Morning  zero        Morning           Mumbai   \n",
       "\n",
       "     class  days_left  price Du_hour Du_min  \n",
       "0  Economy          1   5953       2     17  \n",
       "1  Economy          1   5953       2     33  \n",
       "2  Economy          1   5956       2     17  \n",
       "3  Economy          1   5955       2     25  \n",
       "4  Economy          1   5955       2     33  "
      ]
     },
     "execution_count": 6,
     "metadata": {},
     "output_type": "execute_result"
    }
   ],
   "source": [
    "\n",
    "\n",
    "\n",
    "df1['duration'] = df1['duration'].astype(str)\n",
    "\n",
    "# make the new columns using string indexing\n",
    "df1['Du_hour'] = df1['duration'].str[0:1]\n",
    "df1['Du_min'] = df1['duration'].str[2:4]\n",
    "\n",
    "# get rid of the extra variable (if you want)\n",
    "df1.drop('duration', axis=1, inplace=True)\n",
    "df1.head()"
   ]
  },
  {
   "cell_type": "code",
   "execution_count": 7,
   "id": "4cf259e1",
   "metadata": {
    "execution": {
     "iopub.execute_input": "2022-05-09T02:34:42.266168Z",
     "iopub.status.busy": "2022-05-09T02:34:42.265945Z",
     "iopub.status.idle": "2022-05-09T02:34:43.404186Z",
     "shell.execute_reply": "2022-05-09T02:34:43.403301Z"
    },
    "papermill": {
     "duration": 1.197121,
     "end_time": "2022-05-09T02:34:43.406332",
     "exception": false,
     "start_time": "2022-05-09T02:34:42.209211",
     "status": "completed"
    },
    "tags": []
   },
   "outputs": [],
   "source": [
    "from sklearn.preprocessing import LabelEncoder\n",
    "encoder = LabelEncoder()\n",
    "df1['airline'] = encoder.fit_transform(df1['airline'])\n",
    "df1['source_city'] = encoder.fit_transform(df1['source_city'])\n",
    "df1['departure_time'] = encoder.fit_transform(df1['departure_time'])\n",
    "df1['stops'] = encoder.fit_transform(df1['stops'])\n",
    "df1['arrival_time'] = encoder.fit_transform(df1['arrival_time'])\n",
    "df1['destination_city'] = encoder.fit_transform(df1['destination_city'])\n",
    "df1['class'] = encoder.fit_transform(df1['class'])\n"
   ]
  },
  {
   "cell_type": "code",
   "execution_count": 8,
   "id": "b1bf3131",
   "metadata": {
    "execution": {
     "iopub.execute_input": "2022-05-09T02:34:43.481025Z",
     "iopub.status.busy": "2022-05-09T02:34:43.480728Z",
     "iopub.status.idle": "2022-05-09T02:34:43.493446Z",
     "shell.execute_reply": "2022-05-09T02:34:43.492339Z"
    },
    "papermill": {
     "duration": 0.052501,
     "end_time": "2022-05-09T02:34:43.495079",
     "exception": false,
     "start_time": "2022-05-09T02:34:43.442578",
     "status": "completed"
    },
    "tags": []
   },
   "outputs": [
    {
     "data": {
      "text/html": [
       "<div>\n",
       "<style scoped>\n",
       "    .dataframe tbody tr th:only-of-type {\n",
       "        vertical-align: middle;\n",
       "    }\n",
       "\n",
       "    .dataframe tbody tr th {\n",
       "        vertical-align: top;\n",
       "    }\n",
       "\n",
       "    .dataframe thead th {\n",
       "        text-align: right;\n",
       "    }\n",
       "</style>\n",
       "<table border=\"1\" class=\"dataframe\">\n",
       "  <thead>\n",
       "    <tr style=\"text-align: right;\">\n",
       "      <th></th>\n",
       "      <th>airline</th>\n",
       "      <th>source_city</th>\n",
       "      <th>departure_time</th>\n",
       "      <th>stops</th>\n",
       "      <th>arrival_time</th>\n",
       "      <th>destination_city</th>\n",
       "      <th>class</th>\n",
       "      <th>days_left</th>\n",
       "      <th>price</th>\n",
       "      <th>Du_hour</th>\n",
       "      <th>Du_min</th>\n",
       "    </tr>\n",
       "  </thead>\n",
       "  <tbody>\n",
       "    <tr>\n",
       "      <th>0</th>\n",
       "      <td>4</td>\n",
       "      <td>2</td>\n",
       "      <td>2</td>\n",
       "      <td>2</td>\n",
       "      <td>5</td>\n",
       "      <td>5</td>\n",
       "      <td>1</td>\n",
       "      <td>1</td>\n",
       "      <td>5953</td>\n",
       "      <td>2</td>\n",
       "      <td>17</td>\n",
       "    </tr>\n",
       "    <tr>\n",
       "      <th>1</th>\n",
       "      <td>4</td>\n",
       "      <td>2</td>\n",
       "      <td>1</td>\n",
       "      <td>2</td>\n",
       "      <td>4</td>\n",
       "      <td>5</td>\n",
       "      <td>1</td>\n",
       "      <td>1</td>\n",
       "      <td>5953</td>\n",
       "      <td>2</td>\n",
       "      <td>33</td>\n",
       "    </tr>\n",
       "    <tr>\n",
       "      <th>2</th>\n",
       "      <td>0</td>\n",
       "      <td>2</td>\n",
       "      <td>1</td>\n",
       "      <td>2</td>\n",
       "      <td>1</td>\n",
       "      <td>5</td>\n",
       "      <td>1</td>\n",
       "      <td>1</td>\n",
       "      <td>5956</td>\n",
       "      <td>2</td>\n",
       "      <td>17</td>\n",
       "    </tr>\n",
       "    <tr>\n",
       "      <th>3</th>\n",
       "      <td>5</td>\n",
       "      <td>2</td>\n",
       "      <td>4</td>\n",
       "      <td>2</td>\n",
       "      <td>0</td>\n",
       "      <td>5</td>\n",
       "      <td>1</td>\n",
       "      <td>1</td>\n",
       "      <td>5955</td>\n",
       "      <td>2</td>\n",
       "      <td>25</td>\n",
       "    </tr>\n",
       "    <tr>\n",
       "      <th>4</th>\n",
       "      <td>5</td>\n",
       "      <td>2</td>\n",
       "      <td>4</td>\n",
       "      <td>2</td>\n",
       "      <td>4</td>\n",
       "      <td>5</td>\n",
       "      <td>1</td>\n",
       "      <td>1</td>\n",
       "      <td>5955</td>\n",
       "      <td>2</td>\n",
       "      <td>33</td>\n",
       "    </tr>\n",
       "  </tbody>\n",
       "</table>\n",
       "</div>"
      ],
      "text/plain": [
       "   airline  source_city  departure_time  stops  arrival_time  \\\n",
       "0        4            2               2      2             5   \n",
       "1        4            2               1      2             4   \n",
       "2        0            2               1      2             1   \n",
       "3        5            2               4      2             0   \n",
       "4        5            2               4      2             4   \n",
       "\n",
       "   destination_city  class  days_left  price Du_hour Du_min  \n",
       "0                 5      1          1   5953       2     17  \n",
       "1                 5      1          1   5953       2     33  \n",
       "2                 5      1          1   5956       2     17  \n",
       "3                 5      1          1   5955       2     25  \n",
       "4                 5      1          1   5955       2     33  "
      ]
     },
     "execution_count": 8,
     "metadata": {},
     "output_type": "execute_result"
    }
   ],
   "source": [
    "df1.head()"
   ]
  },
  {
   "cell_type": "code",
   "execution_count": 9,
   "id": "c44198d4",
   "metadata": {
    "execution": {
     "iopub.execute_input": "2022-05-09T02:34:43.572750Z",
     "iopub.status.busy": "2022-05-09T02:34:43.572498Z",
     "iopub.status.idle": "2022-05-09T02:34:44.693755Z",
     "shell.execute_reply": "2022-05-09T02:34:44.692891Z"
    },
    "papermill": {
     "duration": 1.162734,
     "end_time": "2022-05-09T02:34:44.696158",
     "exception": false,
     "start_time": "2022-05-09T02:34:43.533424",
     "status": "completed"
    },
    "tags": []
   },
   "outputs": [
    {
     "data": {
      "image/png": "[encoded data removed]",
      "text/plain": [
       "<Figure size 1296x432 with 1 Axes>"
      ]
     },
     "metadata": {},
     "output_type": "display_data"
    }
   ],
   "source": [
    "sns.catplot(y = \"price\", x = \"airline\", data = df.sort_values(\"price\", ascending = False), kind=\"boxen\", height = 6, aspect = 3)\n",
    "plt.show()"
   ]
  },
  {
   "cell_type": "code",
   "execution_count": 10,
   "id": "476db17f",
   "metadata": {
    "execution": {
     "iopub.execute_input": "2022-05-09T02:34:44.770297Z",
     "iopub.status.busy": "2022-05-09T02:34:44.770088Z",
     "iopub.status.idle": "2022-05-09T02:34:45.608643Z",
     "shell.execute_reply": "2022-05-09T02:34:45.607986Z"
    },
    "papermill": {
     "duration": 0.87643,
     "end_time": "2022-05-09T02:34:45.610555",
     "exception": false,
     "start_time": "2022-05-09T02:34:44.734125",
     "status": "completed"
    },
    "tags": []
   },
   "outputs": [
    {
     "data": {
      "image/png": "[encoded data removed]",
      "text/plain": [
       "<Figure size 1296x432 with 1 Axes>"
      ]
     },
     "metadata": {},
     "output_type": "display_data"
    }
   ],
   "source": [
    "sns.catplot(y = \"price\", x = \"source_city\", data = df.sort_values(\"price\", ascending = False), kind=\"boxen\", height = 6, aspect = 3)\n",
    "plt.show()"
   ]
  },
  {
   "cell_type": "code",
   "execution_count": 11,
   "id": "a6892237",
   "metadata": {
    "execution": {
     "iopub.execute_input": "2022-05-09T02:34:45.691004Z",
     "iopub.status.busy": "2022-05-09T02:34:45.690724Z",
     "iopub.status.idle": "2022-05-09T02:34:46.750863Z",
     "shell.execute_reply": "2022-05-09T02:34:46.749583Z"
    },
    "papermill": {
     "duration": 1.102979,
     "end_time": "2022-05-09T02:34:46.752927",
     "exception": false,
     "start_time": "2022-05-09T02:34:45.649948",
     "status": "completed"
    },
    "tags": []
   },
   "outputs": [
    {
     "data": {
      "image/png": "[encoded data removed]",
      "text/plain": [
       "<Figure size 1296x432 with 1 Axes>"
      ]
     },
     "metadata": {},
     "output_type": "display_data"
    }
   ],
   "source": [
    "sns.catplot(y = \"price\", x = \"destination_city\", data = df.sort_values(\"price\", ascending = False), kind=\"boxen\", height = 6, aspect = 3)\n",
    "plt.show()"
   ]
  },
  {
   "cell_type": "code",
   "execution_count": 12,
   "id": "6567665a",
   "metadata": {
    "execution": {
     "iopub.execute_input": "2022-05-09T02:34:46.856913Z",
     "iopub.status.busy": "2022-05-09T02:34:46.856607Z",
     "iopub.status.idle": "2022-05-09T02:34:46.905142Z",
     "shell.execute_reply": "2022-05-09T02:34:46.904474Z"
    },
    "papermill": {
     "duration": 0.112972,
     "end_time": "2022-05-09T02:34:46.906948",
     "exception": false,
     "start_time": "2022-05-09T02:34:46.793976",
     "status": "completed"
    },
    "tags": []
   },
   "outputs": [
    {
     "data": {
      "text/plain": [
       "one            250863\n",
       "zero            36004\n",
       "two_or_more     13286\n",
       "Name: stops, dtype: int64"
      ]
     },
     "execution_count": 12,
     "metadata": {},
     "output_type": "execute_result"
    }
   ],
   "source": [
    "df['stops'].value_counts()"
   ]
  },
  {
   "cell_type": "code",
   "execution_count": 13,
   "id": "5c4bf7b6",
   "metadata": {
    "execution": {
     "iopub.execute_input": "2022-05-09T02:34:47.029973Z",
     "iopub.status.busy": "2022-05-09T02:34:47.029684Z",
     "iopub.status.idle": "2022-05-09T02:34:53.404062Z",
     "shell.execute_reply": "2022-05-09T02:34:53.403404Z"
    },
    "papermill": {
     "duration": 6.438684,
     "end_time": "2022-05-09T02:34:53.405850",
     "exception": false,
     "start_time": "2022-05-09T02:34:46.967166",
     "status": "completed"
    },
    "tags": []
   },
   "outputs": [
    {
     "data": {
      "image/png": "[encoded data removed]",
      "text/plain": [
       "<Figure size 432x288 with 1 Axes>"
      ]
     },
     "metadata": {},
     "output_type": "display_data"
    }
   ],
   "source": [
    "#sns.catplot(y = \"price\", x = \"stops\", data = df.sort_values(\"price\", ascending = False), kind=\"boxen\", height = 6, aspect = 3)\n",
    "sns.barplot(y = \"price\", x = \"stops\", data = df)\n",
    "plt.show()"
   ]
  },
  {
   "cell_type": "code",
   "execution_count": 14,
   "id": "a39e38ca",
   "metadata": {
    "execution": {
     "iopub.execute_input": "2022-05-09T02:34:53.495520Z",
     "iopub.status.busy": "2022-05-09T02:34:53.495249Z",
     "iopub.status.idle": "2022-05-09T02:34:53.505748Z",
     "shell.execute_reply": "2022-05-09T02:34:53.505327Z"
    },
    "papermill": {
     "duration": 0.053639,
     "end_time": "2022-05-09T02:34:53.507065",
     "exception": false,
     "start_time": "2022-05-09T02:34:53.453426",
     "status": "completed"
    },
    "tags": []
   },
   "outputs": [
    {
     "data": {
      "text/html": [
       "<div>\n",
       "<style scoped>\n",
       "    .dataframe tbody tr th:only-of-type {\n",
       "        vertical-align: middle;\n",
       "    }\n",
       "\n",
       "    .dataframe tbody tr th {\n",
       "        vertical-align: top;\n",
       "    }\n",
       "\n",
       "    .dataframe thead th {\n",
       "        text-align: right;\n",
       "    }\n",
       "</style>\n",
       "<table border=\"1\" class=\"dataframe\">\n",
       "  <thead>\n",
       "    <tr style=\"text-align: right;\">\n",
       "      <th></th>\n",
       "      <th>airline</th>\n",
       "      <th>source_city</th>\n",
       "      <th>departure_time</th>\n",
       "      <th>stops</th>\n",
       "      <th>arrival_time</th>\n",
       "      <th>destination_city</th>\n",
       "      <th>class</th>\n",
       "      <th>days_left</th>\n",
       "      <th>price</th>\n",
       "      <th>Du_hour</th>\n",
       "      <th>Du_min</th>\n",
       "    </tr>\n",
       "  </thead>\n",
       "  <tbody>\n",
       "    <tr>\n",
       "      <th>0</th>\n",
       "      <td>4</td>\n",
       "      <td>2</td>\n",
       "      <td>2</td>\n",
       "      <td>2</td>\n",
       "      <td>5</td>\n",
       "      <td>5</td>\n",
       "      <td>1</td>\n",
       "      <td>1</td>\n",
       "      <td>5953</td>\n",
       "      <td>2</td>\n",
       "      <td>17</td>\n",
       "    </tr>\n",
       "    <tr>\n",
       "      <th>1</th>\n",
       "      <td>4</td>\n",
       "      <td>2</td>\n",
       "      <td>1</td>\n",
       "      <td>2</td>\n",
       "      <td>4</td>\n",
       "      <td>5</td>\n",
       "      <td>1</td>\n",
       "      <td>1</td>\n",
       "      <td>5953</td>\n",
       "      <td>2</td>\n",
       "      <td>33</td>\n",
       "    </tr>\n",
       "    <tr>\n",
       "      <th>2</th>\n",
       "      <td>0</td>\n",
       "      <td>2</td>\n",
       "      <td>1</td>\n",
       "      <td>2</td>\n",
       "      <td>1</td>\n",
       "      <td>5</td>\n",
       "      <td>1</td>\n",
       "      <td>1</td>\n",
       "      <td>5956</td>\n",
       "      <td>2</td>\n",
       "      <td>17</td>\n",
       "    </tr>\n",
       "    <tr>\n",
       "      <th>3</th>\n",
       "      <td>5</td>\n",
       "      <td>2</td>\n",
       "      <td>4</td>\n",
       "      <td>2</td>\n",
       "      <td>0</td>\n",
       "      <td>5</td>\n",
       "      <td>1</td>\n",
       "      <td>1</td>\n",
       "      <td>5955</td>\n",
       "      <td>2</td>\n",
       "      <td>25</td>\n",
       "    </tr>\n",
       "    <tr>\n",
       "      <th>4</th>\n",
       "      <td>5</td>\n",
       "      <td>2</td>\n",
       "      <td>4</td>\n",
       "      <td>2</td>\n",
       "      <td>4</td>\n",
       "      <td>5</td>\n",
       "      <td>1</td>\n",
       "      <td>1</td>\n",
       "      <td>5955</td>\n",
       "      <td>2</td>\n",
       "      <td>33</td>\n",
       "    </tr>\n",
       "  </tbody>\n",
       "</table>\n",
       "</div>"
      ],
      "text/plain": [
       "   airline  source_city  departure_time  stops  arrival_time  \\\n",
       "0        4            2               2      2             5   \n",
       "1        4            2               1      2             4   \n",
       "2        0            2               1      2             1   \n",
       "3        5            2               4      2             0   \n",
       "4        5            2               4      2             4   \n",
       "\n",
       "   destination_city  class  days_left  price Du_hour Du_min  \n",
       "0                 5      1          1   5953       2     17  \n",
       "1                 5      1          1   5953       2     33  \n",
       "2                 5      1          1   5956       2     17  \n",
       "3                 5      1          1   5955       2     25  \n",
       "4                 5      1          1   5955       2     33  "
      ]
     },
     "execution_count": 14,
     "metadata": {},
     "output_type": "execute_result"
    }
   ],
   "source": [
    "df1.head()"
   ]
  },
  {
   "cell_type": "code",
   "execution_count": 15,
   "id": "6c045384",
   "metadata": {
    "execution": {
     "iopub.execute_input": "2022-05-09T02:34:53.592519Z",
     "iopub.status.busy": "2022-05-09T02:34:53.591566Z",
     "iopub.status.idle": "2022-05-09T02:34:53.597968Z",
     "shell.execute_reply": "2022-05-09T02:34:53.597551Z"
    },
    "papermill": {
     "duration": 0.050369,
     "end_time": "2022-05-09T02:34:53.599408",
     "exception": false,
     "start_time": "2022-05-09T02:34:53.549039",
     "status": "completed"
    },
    "tags": []
   },
   "outputs": [
    {
     "data": {
      "text/plain": [
       "array([2, 5, 0, 4, 3, 1])"
      ]
     },
     "execution_count": 15,
     "metadata": {},
     "output_type": "execute_result"
    }
   ],
   "source": [
    "df1['source_city'].unique()"
   ]
  },
  {
   "cell_type": "code",
   "execution_count": 16,
   "id": "9ba60f02",
   "metadata": {
    "execution": {
     "iopub.execute_input": "2022-05-09T02:34:53.682788Z",
     "iopub.status.busy": "2022-05-09T02:34:53.682391Z",
     "iopub.status.idle": "2022-05-09T02:34:53.687401Z",
     "shell.execute_reply": "2022-05-09T02:34:53.686271Z"
    },
    "papermill": {
     "duration": 0.04903,
     "end_time": "2022-05-09T02:34:53.689257",
     "exception": false,
     "start_time": "2022-05-09T02:34:53.640227",
     "status": "completed"
    },
    "tags": []
   },
   "outputs": [],
   "source": [
    "y=df1['price']\n"
   ]
  },
  {
   "cell_type": "code",
   "execution_count": 17,
   "id": "4a1ea563",
   "metadata": {
    "execution": {
     "iopub.execute_input": "2022-05-09T02:34:53.774742Z",
     "iopub.status.busy": "2022-05-09T02:34:53.774202Z",
     "iopub.status.idle": "2022-05-09T02:34:53.791684Z",
     "shell.execute_reply": "2022-05-09T02:34:53.790922Z"
    },
    "papermill": {
     "duration": 0.062368,
     "end_time": "2022-05-09T02:34:53.793511",
     "exception": false,
     "start_time": "2022-05-09T02:34:53.731143",
     "status": "completed"
    },
    "tags": []
   },
   "outputs": [],
   "source": [
    "X=df1.drop('price',axis=1)"
   ]
  },
  {
   "cell_type": "code",
   "execution_count": 18,
   "id": "8c842871",
   "metadata": {
    "execution": {
     "iopub.execute_input": "2022-05-09T02:34:53.879921Z",
     "iopub.status.busy": "2022-05-09T02:34:53.879514Z",
     "iopub.status.idle": "2022-05-09T02:34:53.884278Z",
     "shell.execute_reply": "2022-05-09T02:34:53.883633Z"
    },
    "papermill": {
     "duration": 0.049579,
     "end_time": "2022-05-09T02:34:53.885717",
     "exception": false,
     "start_time": "2022-05-09T02:34:53.836138",
     "status": "completed"
    },
    "tags": []
   },
   "outputs": [
    {
     "data": {
      "text/plain": [
       "0    5953\n",
       "1    5953\n",
       "2    5956\n",
       "3    5955\n",
       "4    5955\n",
       "Name: price, dtype: int64"
      ]
     },
     "execution_count": 18,
     "metadata": {},
     "output_type": "execute_result"
    }
   ],
   "source": [
    "y.head()"
   ]
  },
  {
   "cell_type": "code",
   "execution_count": 19,
   "id": "1fead076",
   "metadata": {
    "execution": {
     "iopub.execute_input": "2022-05-09T02:34:53.970767Z",
     "iopub.status.busy": "2022-05-09T02:34:53.970272Z",
     "iopub.status.idle": "2022-05-09T02:34:53.979378Z",
     "shell.execute_reply": "2022-05-09T02:34:53.978984Z"
    },
    "papermill": {
     "duration": 0.053374,
     "end_time": "2022-05-09T02:34:53.981000",
     "exception": false,
     "start_time": "2022-05-09T02:34:53.927626",
     "status": "completed"
    },
    "tags": []
   },
   "outputs": [
    {
     "data": {
      "text/html": [
       "<div>\n",
       "<style scoped>\n",
       "    .dataframe tbody tr th:only-of-type {\n",
       "        vertical-align: middle;\n",
       "    }\n",
       "\n",
       "    .dataframe tbody tr th {\n",
       "        vertical-align: top;\n",
       "    }\n",
       "\n",
       "    .dataframe thead th {\n",
       "        text-align: right;\n",
       "    }\n",
       "</style>\n",
       "<table border=\"1\" class=\"dataframe\">\n",
       "  <thead>\n",
       "    <tr style=\"text-align: right;\">\n",
       "      <th></th>\n",
       "      <th>airline</th>\n",
       "      <th>source_city</th>\n",
       "      <th>departure_time</th>\n",
       "      <th>stops</th>\n",
       "      <th>arrival_time</th>\n",
       "      <th>destination_city</th>\n",
       "      <th>class</th>\n",
       "      <th>days_left</th>\n",
       "      <th>Du_hour</th>\n",
       "      <th>Du_min</th>\n",
       "    </tr>\n",
       "  </thead>\n",
       "  <tbody>\n",
       "    <tr>\n",
       "      <th>0</th>\n",
       "      <td>4</td>\n",
       "      <td>2</td>\n",
       "      <td>2</td>\n",
       "      <td>2</td>\n",
       "      <td>5</td>\n",
       "      <td>5</td>\n",
       "      <td>1</td>\n",
       "      <td>1</td>\n",
       "      <td>2</td>\n",
       "      <td>17</td>\n",
       "    </tr>\n",
       "    <tr>\n",
       "      <th>1</th>\n",
       "      <td>4</td>\n",
       "      <td>2</td>\n",
       "      <td>1</td>\n",
       "      <td>2</td>\n",
       "      <td>4</td>\n",
       "      <td>5</td>\n",
       "      <td>1</td>\n",
       "      <td>1</td>\n",
       "      <td>2</td>\n",
       "      <td>33</td>\n",
       "    </tr>\n",
       "    <tr>\n",
       "      <th>2</th>\n",
       "      <td>0</td>\n",
       "      <td>2</td>\n",
       "      <td>1</td>\n",
       "      <td>2</td>\n",
       "      <td>1</td>\n",
       "      <td>5</td>\n",
       "      <td>1</td>\n",
       "      <td>1</td>\n",
       "      <td>2</td>\n",
       "      <td>17</td>\n",
       "    </tr>\n",
       "    <tr>\n",
       "      <th>3</th>\n",
       "      <td>5</td>\n",
       "      <td>2</td>\n",
       "      <td>4</td>\n",
       "      <td>2</td>\n",
       "      <td>0</td>\n",
       "      <td>5</td>\n",
       "      <td>1</td>\n",
       "      <td>1</td>\n",
       "      <td>2</td>\n",
       "      <td>25</td>\n",
       "    </tr>\n",
       "    <tr>\n",
       "      <th>4</th>\n",
       "      <td>5</td>\n",
       "      <td>2</td>\n",
       "      <td>4</td>\n",
       "      <td>2</td>\n",
       "      <td>4</td>\n",
       "      <td>5</td>\n",
       "      <td>1</td>\n",
       "      <td>1</td>\n",
       "      <td>2</td>\n",
       "      <td>33</td>\n",
       "    </tr>\n",
       "  </tbody>\n",
       "</table>\n",
       "</div>"
      ],
      "text/plain": [
       "   airline  source_city  departure_time  stops  arrival_time  \\\n",
       "0        4            2               2      2             5   \n",
       "1        4            2               1      2             4   \n",
       "2        0            2               1      2             1   \n",
       "3        5            2               4      2             0   \n",
       "4        5            2               4      2             4   \n",
       "\n",
       "   destination_city  class  days_left Du_hour Du_min  \n",
       "0                 5      1          1       2     17  \n",
       "1                 5      1          1       2     33  \n",
       "2                 5      1          1       2     17  \n",
       "3                 5      1          1       2     25  \n",
       "4                 5      1          1       2     33  "
      ]
     },
     "execution_count": 19,
     "metadata": {},
     "output_type": "execute_result"
    }
   ],
   "source": [
    "X.head()"
   ]
  },
  {
   "cell_type": "code",
   "execution_count": 20,
   "id": "53a49fd9",
   "metadata": {
    "execution": {
     "iopub.execute_input": "2022-05-09T02:34:54.110536Z",
     "iopub.status.busy": "2022-05-09T02:34:54.109982Z",
     "iopub.status.idle": "2022-05-09T02:34:54.735443Z",
     "shell.execute_reply": "2022-05-09T02:34:54.734852Z"
    },
    "papermill": {
     "duration": 0.692785,
     "end_time": "2022-05-09T02:34:54.737691",
     "exception": false,
     "start_time": "2022-05-09T02:34:54.044906",
     "status": "completed"
    },
    "tags": []
   },
   "outputs": [
    {
     "data": {
      "image/png": "[encoded data removed]",
      "text/plain": [
       "<Figure size 1296x1296 with 2 Axes>"
      ]
     },
     "metadata": {},
     "output_type": "display_data"
    }
   ],
   "source": [
    "# Finds correlation between Independent and dependent attributes\n",
    "\n",
    "plt.figure(figsize = (18,18))\n",
    "sns.heatmap(df1.corr(), annot = True, cmap = \"RdYlGn\")\n",
    "\n",
    "plt.show()"
   ]
  },
  {
   "cell_type": "code",
   "execution_count": 21,
   "id": "ca484857",
   "metadata": {
    "execution": {
     "iopub.execute_input": "2022-05-09T02:34:54.860082Z",
     "iopub.status.busy": "2022-05-09T02:34:54.859872Z",
     "iopub.status.idle": "2022-05-09T02:35:47.904297Z",
     "shell.execute_reply": "2022-05-09T02:35:47.903548Z"
    },
    "papermill": {
     "duration": 53.161956,
     "end_time": "2022-05-09T02:35:47.951860",
     "exception": false,
     "start_time": "2022-05-09T02:34:54.789904",
     "status": "completed"
    },
    "tags": []
   },
   "outputs": [
    {
     "data": {
      "text/plain": [
       "ExtraTreesRegressor()"
      ]
     },
     "execution_count": 21,
     "metadata": {},
     "output_type": "execute_result"
    }
   ],
   "source": [
    "# Important feature using ExtraTreesRegressor\n",
    "\n",
    "from sklearn.ensemble import ExtraTreesRegressor\n",
    "selection = ExtraTreesRegressor()\n",
    "selection.fit(X, y)"
   ]
  },
  {
   "cell_type": "code",
   "execution_count": 22,
   "id": "eccd61b4",
   "metadata": {
    "execution": {
     "iopub.execute_input": "2022-05-09T02:35:48.071546Z",
     "iopub.status.busy": "2022-05-09T02:35:48.070489Z",
     "iopub.status.idle": "2022-05-09T02:35:48.386699Z",
     "shell.execute_reply": "2022-05-09T02:35:48.385458Z"
    },
    "papermill": {
     "duration": 0.389608,
     "end_time": "2022-05-09T02:35:48.388576",
     "exception": false,
     "start_time": "2022-05-09T02:35:47.998968",
     "status": "completed"
    },
    "tags": []
   },
   "outputs": [
    {
     "name": "stdout",
     "output_type": "stream",
     "text": [
      "[0.01111708 0.01044512 0.00549438 0.03861236 0.00555042 0.01040622\n",
      " 0.88295464 0.01867045 0.00569946 0.01104986]\n"
     ]
    }
   ],
   "source": [
    "print(selection.feature_importances_)"
   ]
  },
  {
   "cell_type": "code",
   "execution_count": 23,
   "id": "7348449a",
   "metadata": {
    "execution": {
     "iopub.execute_input": "2022-05-09T02:35:48.526479Z",
     "iopub.status.busy": "2022-05-09T02:35:48.526238Z",
     "iopub.status.idle": "2022-05-09T02:35:49.035009Z",
     "shell.execute_reply": "2022-05-09T02:35:49.034025Z"
    },
    "papermill": {
     "duration": 0.58026,
     "end_time": "2022-05-09T02:35:49.037546",
     "exception": false,
     "start_time": "2022-05-09T02:35:48.457286",
     "status": "completed"
    },
    "tags": []
   },
   "outputs": [
    {
     "data": {
      "image/png": "[encoded data removed]",
      "text/plain": [
       "<Figure size 864x576 with 1 Axes>"
      ]
     },
     "metadata": {},
     "output_type": "display_data"
    }
   ],
   "source": [
    "#plot graph of feature importances for better visualization\n",
    "\n",
    "plt.figure(figsize = (12,8))\n",
    "feat_importances = pd.Series(selection.feature_importances_, index=X.columns)\n",
    "feat_importances.nlargest(20).plot(kind='barh')\n",
    "plt.show()"
   ]
  },
  {
   "cell_type": "code",
   "execution_count": 24,
   "id": "6cb17b99",
   "metadata": {
    "execution": {
     "iopub.execute_input": "2022-05-09T02:35:49.176822Z",
     "iopub.status.busy": "2022-05-09T02:35:49.176567Z",
     "iopub.status.idle": "2022-05-09T02:35:49.248572Z",
     "shell.execute_reply": "2022-05-09T02:35:49.247839Z"
    },
    "papermill": {
     "duration": 0.143324,
     "end_time": "2022-05-09T02:35:49.250749",
     "exception": false,
     "start_time": "2022-05-09T02:35:49.107425",
     "status": "completed"
    },
    "tags": []
   },
   "outputs": [],
   "source": [
    "from sklearn.model_selection import train_test_split\n",
    "X_train, X_test, y_train, y_test = train_test_split(\n",
    " X, y, test_size=0.33, random_state=42)"
   ]
  },
  {
   "cell_type": "code",
   "execution_count": 25,
   "id": "6a003a50",
   "metadata": {
    "execution": {
     "iopub.execute_input": "2022-05-09T02:35:49.389365Z",
     "iopub.status.busy": "2022-05-09T02:35:49.388820Z",
     "iopub.status.idle": "2022-05-09T02:41:03.624105Z",
     "shell.execute_reply": "2022-05-09T02:41:03.623211Z"
    },
    "papermill": {
     "duration": 314.376389,
     "end_time": "2022-05-09T02:41:03.695224",
     "exception": false,
     "start_time": "2022-05-09T02:35:49.318835",
     "status": "completed"
    },
    "tags": []
   },
   "outputs": [
    {
     "data": {
      "text/plain": [
       "RandomForestRegressor(max_depth=20, min_samples_split=15, n_estimators=700)"
      ]
     },
     "execution_count": 25,
     "metadata": {},
     "output_type": "execute_result"
    }
   ],
   "source": [
    "from sklearn.ensemble import RandomForestRegressor\n",
    "\n",
    "regr = RandomForestRegressor(n_estimators= 700, min_samples_split= 15, min_samples_leaf= 1, max_features= 'auto', max_depth=20, bootstrap= True  \n",
    ")\n",
    "\n",
    "regr.fit(X_train, y_train)\n",
    "\n",
    "#regr.predict(X_test)\n",
    "#regr.score"
   ]
  },
  {
   "cell_type": "code",
   "execution_count": 26,
   "id": "67265184",
   "metadata": {
    "execution": {
     "iopub.execute_input": "2022-05-09T02:41:03.828093Z",
     "iopub.status.busy": "2022-05-09T02:41:03.827726Z",
     "iopub.status.idle": "2022-05-09T02:41:19.072205Z",
     "shell.execute_reply": "2022-05-09T02:41:19.071652Z"
    },
    "papermill": {
     "duration": 15.313196,
     "end_time": "2022-05-09T02:41:19.074125",
     "exception": false,
     "start_time": "2022-05-09T02:41:03.760929",
     "status": "completed"
    },
    "tags": []
   },
   "outputs": [],
   "source": [
    "y_pred=regr.predict(X_test)"
   ]
  },
  {
   "cell_type": "markdown",
   "id": "7c84ed61",
   "metadata": {
    "papermill": {
     "duration": 0.045637,
     "end_time": "2022-05-09T02:41:19.164989",
     "exception": false,
     "start_time": "2022-05-09T02:41:19.119352",
     "status": "completed"
    },
    "tags": []
   },
   "source": []
  },
  {
   "cell_type": "code",
   "execution_count": 27,
   "id": "2f37c5f7",
   "metadata": {
    "execution": {
     "iopub.execute_input": "2022-05-09T02:41:19.304787Z",
     "iopub.status.busy": "2022-05-09T02:41:19.304524Z",
     "iopub.status.idle": "2022-05-09T02:41:49.813034Z",
     "shell.execute_reply": "2022-05-09T02:41:49.811836Z"
    },
    "papermill": {
     "duration": 30.626415,
     "end_time": "2022-05-09T02:41:49.860636",
     "exception": false,
     "start_time": "2022-05-09T02:41:19.234221",
     "status": "completed"
    },
    "tags": []
   },
   "outputs": [
    {
     "data": {
      "text/plain": [
       "0.9884801700481585"
      ]
     },
     "execution_count": 27,
     "metadata": {},
     "output_type": "execute_result"
    }
   ],
   "source": [
    "\n",
    "regr.score(X_train, y_train)\n",
    "\n"
   ]
  },
  {
   "cell_type": "code",
   "execution_count": 28,
   "id": "80fe3df9",
   "metadata": {
    "execution": {
     "iopub.execute_input": "2022-05-09T02:41:49.954211Z",
     "iopub.status.busy": "2022-05-09T02:41:49.953943Z",
     "iopub.status.idle": "2022-05-09T02:42:04.695247Z",
     "shell.execute_reply": "2022-05-09T02:42:04.694354Z"
    },
    "papermill": {
     "duration": 14.790519,
     "end_time": "2022-05-09T02:42:04.696971",
     "exception": false,
     "start_time": "2022-05-09T02:41:49.906452",
     "status": "completed"
    },
    "tags": []
   },
   "outputs": [
    {
     "data": {
      "text/plain": [
       "0.9826014295208063"
      ]
     },
     "execution_count": 28,
     "metadata": {},
     "output_type": "execute_result"
    }
   ],
   "source": [
    "regr.score(X_test, y_test)\n"
   ]
  },
  {
   "cell_type": "code",
   "execution_count": 29,
   "id": "c44681dd",
   "metadata": {
    "execution": {
     "iopub.execute_input": "2022-05-09T02:42:04.791717Z",
     "iopub.status.busy": "2022-05-09T02:42:04.791360Z",
     "iopub.status.idle": "2022-05-09T02:42:06.020356Z",
     "shell.execute_reply": "2022-05-09T02:42:06.019370Z"
    },
    "papermill": {
     "duration": 1.279224,
     "end_time": "2022-05-09T02:42:06.022741",
     "exception": false,
     "start_time": "2022-05-09T02:42:04.743517",
     "status": "completed"
    },
    "tags": []
   },
   "outputs": [
    {
     "name": "stderr",
     "output_type": "stream",
     "text": [
      "/opt/conda/lib/python3.7/site-packages/seaborn/distributions.py:2619: FutureWarning: `distplot` is a deprecated function and will be removed in a future version. Please adapt your code to use either `displot` (a figure-level function with similar flexibility) or `histplot` (an axes-level function for histograms).\n",
      "  warnings.warn(msg, FutureWarning)\n"
     ]
    },
    {
     "data": {
      "image/png": "[encoded data removed]",
      "text/plain": [
       "<Figure size 432x288 with 1 Axes>"
      ]
     },
     "metadata": {},
     "output_type": "display_data"
    }
   ],
   "source": [
    "\n",
    "sns.distplot(y_test-y_pred)\n",
    "plt.show()"
   ]
  },
  {
   "cell_type": "code",
   "execution_count": 30,
   "id": "76b7c0d4",
   "metadata": {
    "execution": {
     "iopub.execute_input": "2022-05-09T02:42:06.167521Z",
     "iopub.status.busy": "2022-05-09T02:42:06.167249Z",
     "iopub.status.idle": "2022-05-09T02:42:06.176768Z",
     "shell.execute_reply": "2022-05-09T02:42:06.175977Z"
    },
    "papermill": {
     "duration": 0.08479,
     "end_time": "2022-05-09T02:42:06.179136",
     "exception": false,
     "start_time": "2022-05-09T02:42:06.094346",
     "status": "completed"
    },
    "tags": []
   },
   "outputs": [
    {
     "data": {
      "text/plain": [
       "1380.4069807888084"
      ]
     },
     "execution_count": 30,
     "metadata": {},
     "output_type": "execute_result"
    }
   ],
   "source": [
    "from sklearn.metrics import mean_absolute_error\n",
    "\n",
    "mean_absolute_error(y_test, y_pred)\n",
    "\n"
   ]
  },
  {
   "cell_type": "code",
   "execution_count": 31,
   "id": "a0d4416e",
   "metadata": {
    "execution": {
     "iopub.execute_input": "2022-05-09T02:42:06.323882Z",
     "iopub.status.busy": "2022-05-09T02:42:06.323642Z",
     "iopub.status.idle": "2022-05-09T02:42:07.382296Z",
     "shell.execute_reply": "2022-05-09T02:42:07.380806Z"
    },
    "papermill": {
     "duration": 1.134447,
     "end_time": "2022-05-09T02:42:07.385149",
     "exception": false,
     "start_time": "2022-05-09T02:42:06.250702",
     "status": "completed"
    },
    "tags": []
   },
   "outputs": [],
   "source": [
    "import pickle\n",
    "with open( \"flight_rf.pkl\", \"wb\" ) as f:\n",
    "    pickle.dump( regr, f)"
   ]
  },
  {
   "cell_type": "code",
   "execution_count": 32,
   "id": "14308fd8",
   "metadata": {
    "execution": {
     "iopub.execute_input": "2022-05-09T02:42:07.534133Z",
     "iopub.status.busy": "2022-05-09T02:42:07.533894Z",
     "iopub.status.idle": "2022-05-09T02:42:07.540342Z",
     "shell.execute_reply": "2022-05-09T02:42:07.539306Z"
    },
    "papermill": {
     "duration": 0.083904,
     "end_time": "2022-05-09T02:42:07.542423",
     "exception": false,
     "start_time": "2022-05-09T02:42:07.458519",
     "status": "completed"
    },
    "tags": []
   },
   "outputs": [],
   "source": [
    "from sklearn.model_selection import RandomizedSearchCV\n",
    "#Randomized Search CV\n",
    "\n",
    "# Number of trees in random forest\n",
    "n_estimators = [int(x) for x in np.linspace(start = 100, stop = 1200, num = 12)]\n",
    "# Number of features to consider at every split\n",
    "max_features = ['auto', 'sqrt']\n",
    "# Maximum number of levels in tree\n",
    "max_depth = [int(x) for x in np.linspace(5, 30, num = 6)]\n",
    "# Minimum number of samples required to split a node\n",
    "min_samples_split = [2, 5, 10, 15, 100]\n",
    "# Minimum number of samples required at each leaf node\n",
    "min_samples_leaf = [1, 2, 5, 10]\n"
   ]
  },
  {
   "cell_type": "code",
   "execution_count": 33,
   "id": "f44aaf0d",
   "metadata": {
    "execution": {
     "iopub.execute_input": "2022-05-09T02:42:07.645238Z",
     "iopub.status.busy": "2022-05-09T02:42:07.644959Z",
     "iopub.status.idle": "2022-05-09T02:42:07.650838Z",
     "shell.execute_reply": "2022-05-09T02:42:07.649456Z"
    },
    "papermill": {
     "duration": 0.059264,
     "end_time": "2022-05-09T02:42:07.653104",
     "exception": false,
     "start_time": "2022-05-09T02:42:07.593840",
     "status": "completed"
    },
    "tags": []
   },
   "outputs": [],
   "source": [
    "# Create the random grid\n",
    "\n",
    "random_grid = {'n_estimators': n_estimators,\n",
    "               'max_features': max_features,\n",
    "               'max_depth': max_depth,\n",
    "               'min_samples_split': min_samples_split,\n",
    "               'min_samples_leaf': min_samples_leaf}"
   ]
  },
  {
   "cell_type": "code",
   "execution_count": 34,
   "id": "bf387bd0",
   "metadata": {
    "execution": {
     "iopub.execute_input": "2022-05-09T02:42:07.752566Z",
     "iopub.status.busy": "2022-05-09T02:42:07.752344Z",
     "iopub.status.idle": "2022-05-09T02:42:07.756841Z",
     "shell.execute_reply": "2022-05-09T02:42:07.755676Z"
    },
    "papermill": {
     "duration": 0.056192,
     "end_time": "2022-05-09T02:42:07.758778",
     "exception": false,
     "start_time": "2022-05-09T02:42:07.702586",
     "status": "completed"
    },
    "tags": []
   },
   "outputs": [],
   "source": [
    "\n",
    "rf_random = RandomizedSearchCV(estimator = regr, param_distributions = random_grid,scoring='neg_mean_squared_error', n_iter = 10, cv = 5, verbose=2, random_state=42, n_jobs = 1)\n"
   ]
  },
  {
   "cell_type": "code",
   "execution_count": 35,
   "id": "938504d7",
   "metadata": {
    "execution": {
     "iopub.execute_input": "2022-05-09T02:42:07.857168Z",
     "iopub.status.busy": "2022-05-09T02:42:07.856930Z",
     "iopub.status.idle": "2022-05-09T04:34:14.675419Z",
     "shell.execute_reply": "2022-05-09T04:34:14.674466Z"
    },
    "papermill": {
     "duration": 6726.967347,
     "end_time": "2022-05-09T04:34:14.774436",
     "exception": false,
     "start_time": "2022-05-09T02:42:07.807089",
     "status": "completed"
    },
    "tags": []
   },
   "outputs": [
    {
     "name": "stdout",
     "output_type": "stream",
     "text": [
      "Fitting 5 folds for each of 10 candidates, totalling 50 fits\n",
      "[CV] END max_depth=10, max_features=sqrt, min_samples_leaf=5, min_samples_split=5, n_estimators=900; total time= 1.4min\n",
      "[CV] END max_depth=10, max_features=sqrt, min_samples_leaf=5, min_samples_split=5, n_estimators=900; total time= 1.4min\n",
      "[CV] END max_depth=10, max_features=sqrt, min_samples_leaf=5, min_samples_split=5, n_estimators=900; total time= 1.4min\n",
      "[CV] END max_depth=10, max_features=sqrt, min_samples_leaf=5, min_samples_split=5, n_estimators=900; total time= 1.4min\n",
      "[CV] END max_depth=10, max_features=sqrt, min_samples_leaf=5, min_samples_split=5, n_estimators=900; total time= 1.4min\n",
      "[CV] END max_depth=15, max_features=sqrt, min_samples_leaf=2, min_samples_split=10, n_estimators=1100; total time= 2.2min\n",
      "[CV] END max_depth=15, max_features=sqrt, min_samples_leaf=2, min_samples_split=10, n_estimators=1100; total time= 2.3min\n",
      "[CV] END max_depth=15, max_features=sqrt, min_samples_leaf=2, min_samples_split=10, n_estimators=1100; total time= 2.2min\n",
      "[CV] END max_depth=15, max_features=sqrt, min_samples_leaf=2, min_samples_split=10, n_estimators=1100; total time= 2.3min\n",
      "[CV] END max_depth=15, max_features=sqrt, min_samples_leaf=2, min_samples_split=10, n_estimators=1100; total time= 2.3min\n",
      "[CV] END max_depth=15, max_features=auto, min_samples_leaf=5, min_samples_split=100, n_estimators=300; total time= 1.6min\n",
      "[CV] END max_depth=15, max_features=auto, min_samples_leaf=5, min_samples_split=100, n_estimators=300; total time= 1.6min\n",
      "[CV] END max_depth=15, max_features=auto, min_samples_leaf=5, min_samples_split=100, n_estimators=300; total time= 1.6min\n",
      "[CV] END max_depth=15, max_features=auto, min_samples_leaf=5, min_samples_split=100, n_estimators=300; total time= 1.5min\n",
      "[CV] END max_depth=15, max_features=auto, min_samples_leaf=5, min_samples_split=100, n_estimators=300; total time= 1.6min\n",
      "[CV] END max_depth=15, max_features=auto, min_samples_leaf=5, min_samples_split=5, n_estimators=400; total time= 2.2min\n",
      "[CV] END max_depth=15, max_features=auto, min_samples_leaf=5, min_samples_split=5, n_estimators=400; total time= 2.2min\n",
      "[CV] END max_depth=15, max_features=auto, min_samples_leaf=5, min_samples_split=5, n_estimators=400; total time= 2.2min\n",
      "[CV] END max_depth=15, max_features=auto, min_samples_leaf=5, min_samples_split=5, n_estimators=400; total time= 2.2min\n",
      "[CV] END max_depth=15, max_features=auto, min_samples_leaf=5, min_samples_split=5, n_estimators=400; total time= 2.2min\n",
      "[CV] END max_depth=20, max_features=auto, min_samples_leaf=10, min_samples_split=5, n_estimators=700; total time= 4.2min\n",
      "[CV] END max_depth=20, max_features=auto, min_samples_leaf=10, min_samples_split=5, n_estimators=700; total time= 4.2min\n",
      "[CV] END max_depth=20, max_features=auto, min_samples_leaf=10, min_samples_split=5, n_estimators=700; total time= 4.2min\n",
      "[CV] END max_depth=20, max_features=auto, min_samples_leaf=10, min_samples_split=5, n_estimators=700; total time= 4.2min\n",
      "[CV] END max_depth=20, max_features=auto, min_samples_leaf=10, min_samples_split=5, n_estimators=700; total time= 4.2min\n",
      "[CV] END max_depth=25, max_features=sqrt, min_samples_leaf=1, min_samples_split=2, n_estimators=1000; total time= 3.2min\n",
      "[CV] END max_depth=25, max_features=sqrt, min_samples_leaf=1, min_samples_split=2, n_estimators=1000; total time= 3.3min\n",
      "[CV] END max_depth=25, max_features=sqrt, min_samples_leaf=1, min_samples_split=2, n_estimators=1000; total time= 3.2min\n",
      "[CV] END max_depth=25, max_features=sqrt, min_samples_leaf=1, min_samples_split=2, n_estimators=1000; total time= 3.2min\n",
      "[CV] END max_depth=25, max_features=sqrt, min_samples_leaf=1, min_samples_split=2, n_estimators=1000; total time= 3.0min\n",
      "[CV] END max_depth=5, max_features=sqrt, min_samples_leaf=10, min_samples_split=15, n_estimators=1100; total time=  59.0s\n",
      "[CV] END max_depth=5, max_features=sqrt, min_samples_leaf=10, min_samples_split=15, n_estimators=1100; total time=  58.8s\n",
      "[CV] END max_depth=5, max_features=sqrt, min_samples_leaf=10, min_samples_split=15, n_estimators=1100; total time=  56.7s\n",
      "[CV] END max_depth=5, max_features=sqrt, min_samples_leaf=10, min_samples_split=15, n_estimators=1100; total time=  55.9s\n",
      "[CV] END max_depth=5, max_features=sqrt, min_samples_leaf=10, min_samples_split=15, n_estimators=1100; total time=  58.0s\n",
      "[CV] END max_depth=15, max_features=sqrt, min_samples_leaf=1, min_samples_split=15, n_estimators=300; total time=  38.1s\n",
      "[CV] END max_depth=15, max_features=sqrt, min_samples_leaf=1, min_samples_split=15, n_estimators=300; total time=  38.7s\n",
      "[CV] END max_depth=15, max_features=sqrt, min_samples_leaf=1, min_samples_split=15, n_estimators=300; total time=  38.9s\n",
      "[CV] END max_depth=15, max_features=sqrt, min_samples_leaf=1, min_samples_split=15, n_estimators=300; total time=  38.2s\n",
      "[CV] END max_depth=15, max_features=sqrt, min_samples_leaf=1, min_samples_split=15, n_estimators=300; total time=  38.6s\n",
      "[CV] END max_depth=5, max_features=sqrt, min_samples_leaf=2, min_samples_split=10, n_estimators=700; total time=  38.2s\n",
      "[CV] END max_depth=5, max_features=sqrt, min_samples_leaf=2, min_samples_split=10, n_estimators=700; total time=  37.9s\n",
      "[CV] END max_depth=5, max_features=sqrt, min_samples_leaf=2, min_samples_split=10, n_estimators=700; total time=  37.7s\n",
      "[CV] END max_depth=5, max_features=sqrt, min_samples_leaf=2, min_samples_split=10, n_estimators=700; total time=  44.4s\n",
      "[CV] END max_depth=5, max_features=sqrt, min_samples_leaf=2, min_samples_split=10, n_estimators=700; total time=  36.9s\n",
      "[CV] END max_depth=20, max_features=auto, min_samples_leaf=1, min_samples_split=15, n_estimators=700; total time= 4.3min\n",
      "[CV] END max_depth=20, max_features=auto, min_samples_leaf=1, min_samples_split=15, n_estimators=700; total time= 4.2min\n",
      "[CV] END max_depth=20, max_features=auto, min_samples_leaf=1, min_samples_split=15, n_estimators=700; total time= 4.4min\n",
      "[CV] END max_depth=20, max_features=auto, min_samples_leaf=1, min_samples_split=15, n_estimators=700; total time= 4.3min\n",
      "[CV] END max_depth=20, max_features=auto, min_samples_leaf=1, min_samples_split=15, n_estimators=700; total time= 4.3min\n"
     ]
    },
    {
     "data": {
      "text/plain": [
       "RandomizedSearchCV(cv=5,\n",
       "                   estimator=RandomForestRegressor(max_depth=20,\n",
       "                                                   min_samples_split=15,\n",
       "                                                   n_estimators=700),\n",
       "                   n_jobs=1,\n",
       "                   param_distributions={'max_depth': [5, 10, 15, 20, 25, 30],\n",
       "                                        'max_features': ['auto', 'sqrt'],\n",
       "                                        'min_samples_leaf': [1, 2, 5, 10],\n",
       "                                        'min_samples_split': [2, 5, 10, 15,\n",
       "                                                              100],\n",
       "                                        'n_estimators': [100, 200, 300, 400,\n",
       "                                                         500, 600, 700, 800,\n",
       "                                                         900, 1000, 1100,\n",
       "                                                         1200]},\n",
       "                   random_state=42, scoring='neg_mean_squared_error',\n",
       "                   verbose=2)"
      ]
     },
     "execution_count": 35,
     "metadata": {},
     "output_type": "execute_result"
    }
   ],
   "source": [
    "rf_random.fit(X_train,y_train)"
   ]
  },
  {
   "cell_type": "code",
   "execution_count": 36,
   "id": "01e65bf9",
   "metadata": {
    "execution": {
     "iopub.execute_input": "2022-05-09T04:34:14.962399Z",
     "iopub.status.busy": "2022-05-09T04:34:14.961379Z",
     "iopub.status.idle": "2022-05-09T04:34:14.968311Z",
     "shell.execute_reply": "2022-05-09T04:34:14.967111Z"
    },
    "papermill": {
     "duration": 0.101848,
     "end_time": "2022-05-09T04:34:14.970266",
     "exception": false,
     "start_time": "2022-05-09T04:34:14.868418",
     "status": "completed"
    },
    "tags": []
   },
   "outputs": [
    {
     "data": {
      "text/plain": [
       "{'n_estimators': 700,\n",
       " 'min_samples_split': 15,\n",
       " 'min_samples_leaf': 1,\n",
       " 'max_features': 'auto',\n",
       " 'max_depth': 20}"
      ]
     },
     "execution_count": 36,
     "metadata": {},
     "output_type": "execute_result"
    }
   ],
   "source": [
    "rf_random.best_params_"
   ]
  },
  {
   "cell_type": "code",
   "execution_count": 37,
   "id": "4c77a420",
   "metadata": {
    "execution": {
     "iopub.execute_input": "2022-05-09T04:34:15.164216Z",
     "iopub.status.busy": "2022-05-09T04:34:15.163861Z",
     "iopub.status.idle": "2022-05-09T04:34:30.015984Z",
     "shell.execute_reply": "2022-05-09T04:34:30.015168Z"
    },
    "papermill": {
     "duration": 14.952385,
     "end_time": "2022-05-09T04:34:30.018365",
     "exception": false,
     "start_time": "2022-05-09T04:34:15.065980",
     "status": "completed"
    },
    "tags": []
   },
   "outputs": [],
   "source": [
    "prediction = rf_random.predict(X_test)"
   ]
  },
  {
   "cell_type": "code",
   "execution_count": 38,
   "id": "dd03d4dd",
   "metadata": {
    "execution": {
     "iopub.execute_input": "2022-05-09T04:34:30.219376Z",
     "iopub.status.busy": "2022-05-09T04:34:30.219028Z",
     "iopub.status.idle": "2022-05-09T04:34:30.223265Z",
     "shell.execute_reply": "2022-05-09T04:34:30.221830Z"
    },
    "papermill": {
     "duration": 0.106986,
     "end_time": "2022-05-09T04:34:30.225741",
     "exception": false,
     "start_time": "2022-05-09T04:34:30.118755",
     "status": "completed"
    },
    "tags": []
   },
   "outputs": [],
   "source": [
    "#import pickle\n",
    "#file = open('flight_rf.pkl', 'wb')\n",
    "\n",
    "# dump information to that file\n",
    "#pickle.dump(rf_random, file)"
   ]
  },
  {
   "cell_type": "code",
   "execution_count": 39,
   "id": "cbe34f09",
   "metadata": {
    "execution": {
     "iopub.execute_input": "2022-05-09T04:34:30.423656Z",
     "iopub.status.busy": "2022-05-09T04:34:30.423376Z",
     "iopub.status.idle": "2022-05-09T04:34:30.427516Z",
     "shell.execute_reply": "2022-05-09T04:34:30.426483Z"
    },
    "papermill": {
     "duration": 0.105576,
     "end_time": "2022-05-09T04:34:30.429632",
     "exception": false,
     "start_time": "2022-05-09T04:34:30.324056",
     "status": "completed"
    },
    "tags": []
   },
   "outputs": [],
   "source": [
    "#test = open('flight_price_rf.pkl','rb')\n",
    "#randforest = pickle.load(test)"
   ]
  },
  {
   "cell_type": "code",
   "execution_count": null,
   "id": "e745dc7f",
   "metadata": {
    "papermill": {
     "duration": 0.065166,
     "end_time": "2022-05-09T04:34:30.565739",
     "exception": false,
     "start_time": "2022-05-09T04:34:30.500573",
     "status": "completed"
    },
    "tags": []
   },
   "outputs": [],
   "source": []
  },
  {
   "cell_type": "code",
   "execution_count": null,
   "id": "83cf3270",
   "metadata": {
    "papermill": {
     "duration": 0.066215,
     "end_time": "2022-05-09T04:34:30.698128",
     "exception": false,
     "start_time": "2022-05-09T04:34:30.631913",
     "status": "completed"
    },
    "tags": []
   },
   "outputs": [],
   "source": []
  },
  {
   "cell_type": "code",
   "execution_count": 40,
   "id": "81774dc4",
   "metadata": {
    "execution": {
     "iopub.execute_input": "2022-05-09T04:34:30.832054Z",
     "iopub.status.busy": "2022-05-09T04:34:30.831605Z",
     "iopub.status.idle": "2022-05-09T04:34:30.834172Z",
     "shell.execute_reply": "2022-05-09T04:34:30.833795Z"
    },
    "papermill": {
     "duration": 0.072589,
     "end_time": "2022-05-09T04:34:30.836126",
     "exception": false,
     "start_time": "2022-05-09T04:34:30.763537",
     "status": "completed"
    },
    "tags": []
   },
   "outputs": [],
   "source": [
    "#y_prediction = randforest.predict(X_test)"
   ]
  },
  {
   "cell_type": "code",
   "execution_count": null,
   "id": "3f8bac77",
   "metadata": {
    "papermill": {
     "duration": 0.067546,
     "end_time": "2022-05-09T04:34:30.971311",
     "exception": false,
     "start_time": "2022-05-09T04:34:30.903765",
     "status": "completed"
    },
    "tags": []
   },
   "outputs": [],
   "source": []
  }
 ],
 "metadata": {
  "kernelspec": {
   "display_name": "Python 3",
   "language": "python",
   "name": "python3"
  },
  "language_info": {
   "codemirror_mode": {
    "name": "ipython",
    "version": 3
   },
   "file_extension": ".py",
   "mimetype": "text/x-python",
   "name": "python",
   "nbconvert_exporter": "python",
   "pygments_lexer": "ipython3",
   "version": "3.7.12"
  },
  "papermill": {
   "default_parameters": {},
   "duration": 7205.322224,
   "end_time": "2022-05-09T04:34:33.449988",
   "environment_variables": {},
   "exception": null,
   "input_path": "__notebook__.ipynb",
   "output_path": "__notebook__.ipynb",
   "parameters": {},
   "start_time": "2022-05-09T02:34:28.127764",
   "version": "2.3.4"
  }
 },
 "nbformat": 4,
 "nbformat_minor": 5
}
